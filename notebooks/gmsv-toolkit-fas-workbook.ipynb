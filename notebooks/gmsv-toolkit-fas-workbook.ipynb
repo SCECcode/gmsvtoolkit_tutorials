{
 "cells": [
  {
   "cell_type": "markdown",
   "id": "f6af56ff",
   "metadata": {},
   "source": [
    "## SCEC Ground Motion Simulation Validation (GMSV) Toolkit FAS Workflow"
   ]
  },
  {
   "cell_type": "markdown",
   "id": "8050b251",
   "metadata": {},
   "source": [
    "In this notebook we present a brief introduction to SCEC GMSV Toolkit, and use it to compare the fourier amplitude spectra (FAS) of ground motion generated in the Broadband Platform (BBP) against recorded ground motions for the 1994 Northridge earthquake.\n",
    "\n",
    "SCEC's goal with GMSV Toolkit is to make existing, well verified, and useful software available to a broad seismological and engineering community of researchers interested in ground motion simulations validation. SCEC's GMSV Toolkit leverages over a decade of scientific, engineering, and software development work completed by dozens of SCEC contributors, including the groups working with the Broadband Platform, the GMSV TAG, the High-F group, among others.\n",
    "\n",
    "The GMSV codes compute various ground motion metrics, compare them with empirical data and models, and deliver suites of statistical products, including plots, to facilitate the evaluation. It aggregates methods into a standalone package so that their full capabilities are accessible for the validation of any simulation set."
   ]
  },
  {
   "cell_type": "markdown",
   "id": "7d26d295",
   "metadata": {},
   "source": [
    "### Overview"
   ]
  },
  {
   "cell_type": "markdown",
   "id": "0c154e61",
   "metadata": {},
   "source": [
    "1. Getting started\n",
    "2. Broadband Platform background\n",
    "    1. Validation simulation inputs\n",
    "    2. Validation simulation outputs\n",
    "    3. Plotting map with stations and rupture\n",
    "3. Calculating FAS\n",
    "    1. Computing FAS for simulated and recorded data\n",
    "4. Comparing FAS: simulations against observations\n",
    "5. Generating FAS GoF Plot\n",
    "    1. Calculating residuals\n",
    "    2. FAS GoF\n",
    "6. Further reading\n",
    "7. Acknowledgements"
   ]
  },
  {
   "cell_type": "markdown",
   "id": "f571adbc",
   "metadata": {},
   "source": [
    "### 1. Getting started"
   ]
  },
  {
   "cell_type": "markdown",
   "id": "3394e57d",
   "metadata": {},
   "source": [
    "In this notebook we walk users through the steps involved in the GMSV Toolkit's FAS processing workflow. Several of the codes used in this notebook have been used in the post-processing stages of the Broadband Platform for more than ten years, and have been modified and migrated to the GMSV Toolkit repository for working as a standalone package. This enables users to take advantage of these codes outside of the Broadband Platform."
   ]
  },
  {
   "cell_type": "markdown",
   "id": "9aa260d0",
   "metadata": {},
   "source": [
    "The codes included in the GMSV Toolkit package are designed to work independently and can be used separately. Each module includes a command-line interface that allows it to be used from the command-line or automated with a script. Additionally, users can import each module into their Python programs and use the tools directly by calling the functions they need. In this notebook we will focus on using the codes via the Python interface."
   ]
  },
  {
   "cell_type": "markdown",
   "id": "7798bdb3",
   "metadata": {},
   "source": [
    "As a brief summary, in the FAS GoF workflow, acceleration timeseries go through the FAS module where fourier amplitude spectra is computed for frequencies between 0.01 and 100Hz. This output can be plotted using the plot_fas module and/or compared on a station by station basis with the plot_fas_comparison module. These FAS files can also be aggregated across all stations and compared against a second data set with the FAS GoF tool. Finally, the FAS GoF Plot module can be used to generate a FAS GoF plot so users can see how two datasets match. Please note that the workflow above can work with simulations versus observed data, as well as with two sets of simulated data.\n",
    "\n",
    "The diagram below illustrates the processing steps involved in the FAS processing workflow:"
   ]
  },
  {
   "cell_type": "markdown",
   "id": "bb20e53e",
   "metadata": {},
   "source": [
    "<img align=\"center\" width=\"800\" src=\"images/gmsvtoolkit_fas_workflow.png\">"
   ]
  },
  {
   "cell_type": "markdown",
   "id": "d6282ea6",
   "metadata": {},
   "source": [
    "We will start our processing with the outputs provided by the Platform, and use different tools from the GMSV Toolkit to obtain a FAS Goodness-of-Fit (GoF) plot that can be used to visualize how the simulation results from the Platform compare against recorded timeseries from the 1994 Northridge earthquake."
   ]
  },
  {
   "cell_type": "markdown",
   "id": "69269f03",
   "metadata": {},
   "source": [
    "For this exercise, we will follow the FAS workflow described above. We will use the FAS module to compute fourier amplitude spectra for both calculated and observed timeseries. Then, we will generate comparison plots of observed versus calculated timeseries for a station to check how they compare at different frequencies. Next, we will combine the FAS data from all stations and generate residuals that will be used in the last step to generate a Goodness-of-Fit (GoF) plot.\n",
    "\n",
    "Now, before we get started with this notebook, we will import a couple of basic modules that will provide useful functions for using paths and displaying plots later on."
   ]
  },
  {
   "cell_type": "code",
   "execution_count": null,
   "id": "b2757d24",
   "metadata": {},
   "outputs": [],
   "source": [
    "from IPython.display import Image, display\n",
    "import os"
   ]
  },
  {
   "cell_type": "markdown",
   "id": "3ebbc986",
   "metadata": {},
   "source": [
    "### 2. Broadband Platform background"
   ]
  },
  {
   "cell_type": "markdown",
   "id": "abe0939a",
   "metadata": {},
   "source": [
    "The Broadband Platform (BBP) is a software system that can generate 0-20+ Hz seismograms for historical and scenario earthquakes in California, Eastern North America, and Japan using several alternative computational methods. In validation simulations, we use a historical events and select station locations for which we have recorded data available. We can then compare the synthetic seismograms produced by the Platform against the recorded data and see how simulation methods match historical events. The Broadband Platform can also run scenario simulations, where it can generate ground motions for an arbitrary event at user-selected locations."
   ]
  },
  {
   "cell_type": "markdown",
   "id": "8f46ec8f",
   "metadata": {},
   "source": [
    "In this notebook, we will be using data from a Broadband Platform validation simulation that compares how a simulation method matches data recorded from the 1994 Northridge earthquake in Southern California."
   ]
  },
  {
   "cell_type": "markdown",
   "id": "e5908483",
   "metadata": {},
   "source": [
    "#### A. Validation simulation inputs\n",
    "\n",
    "<img align=\"right\" width=\"350\" src=\"images/labasin500.png\">\n",
    "\n",
    "Running the Broadband Platform involves selecting a simulation method and a simulation region that provides a 1-D velocity model that will be used to compute the synthetic seismograms. Although these items are not used in this notebook, we wanted to mention them for completeness. On the right, we show the 1-D velocity profile used for the LA Basin region, with a Vs30 set to 500m/s. After seismogram synthesis is completed, the Broadband Platform will run a site amplification module that will correct the simulated data at each station to the Vs30s provided in the station list (see below).\n",
    "\n",
    "Also needed for a validation simulation is a description of the earthquake. The Broadband Platform uses a simple source description file (also called a SRC file with a \".src\" extension). This file includes the fault geometry, location, mechanism, and other basic parameters used in the simulation. Users will also need to specify a list of stations for which we would like to compute synthetic seismograms. The station list contains information for each station, including station name, coordinates (latitude and longitude), Vs30, and also a range of frequencies for which recorded data is available.\n",
    "\n",
    "Finally, for a validation simulation will need a set or recorded seismograms, one for each station, containing a three-component acceleration timeseries. These observations can then be compared against the simulated timeseries produced by the Platform using a variety of metrics.\n",
    "\n",
    "Below we show examples of both a source description file and a station list, which will be used later in this notebook. The Northridge source description file includes magnitude, fault geometry and location, and other simulation parameters needed by the various Broadband Platform simulation methods. The station file contains the station location (longitude and latitude), a station name or identifier, Vs30 for the site, and the range of frequencies for which recorded data is valid for this station."
   ]
  },
  {
   "cell_type": "raw",
   "id": "5d30802c",
   "metadata": {},
   "source": [
    " #\n",
    " # Northridge (1994) source description\n",
    " #\n",
    " MAGNITUDE = 6.73\n",
    " FAULT_LENGTH = 20.00\n",
    " FAULT_WIDTH = 25.00\n",
    " DEPTH_TO_TOP = 5.00\n",
    " STRIKE = 122\n",
    " RAKE = 105.00\n",
    " DIP = 40\n",
    " LAT_TOP_CENTER = 34.344\n",
    " LON_TOP_CENTER = -118.515\n",
    " HYPO_ALONG_STK = 6.00\n",
    " HYPO_DOWN_DIP =  19.40\n",
    " #\n",
    " # Model specific parameters\n",
    " #\n",
    " DWID = 0.1\n",
    " DLEN = 0.1\n",
    " #\n",
    " # Alternative SEEDS create alternative .srf\n",
    " #\n",
    " SEED = 2379646"
   ]
  },
  {
   "cell_type": "raw",
   "id": "00e40cf7",
   "metadata": {},
   "source": [
    " # Station file with three stations near Northridge rupture\n",
    " # Lon    Lat     StationId  Vs30(m/s) HP_Freq(Hz) LP_Freq(Hz)\n",
    " -118.481 34.312  2001-SCE   370       0.2875      17.6001\n",
    " -118.444 34.326  2002-SYL   440       0.1500      11.1111\n",
    " -118.496 34.312  2003-JEN   373       0.1250      16.0000"
   ]
  },
  {
   "cell_type": "markdown",
   "id": "b606accd",
   "metadata": {},
   "source": [
    "#### B. Validation simulation outputs\n",
    "\n",
    "After the seismogram synthesis part of the Broadband Platform completes, we will have one velocity and one acceleration timeseries file for each station in our station list. These files, in BBP format, contain four columns, with time (in seconds), and two horizontal and one vertical components (in cm/s or cm/s/s). An example is provided below:"
   ]
  },
  {
   "cell_type": "raw",
   "id": "70dc2b56",
   "metadata": {},
   "source": [
    "# Sim NGAH, stat=2001-SCE\n",
    "#    time(sec)      N-S(cm/s)      E-W(cm/s)      U-D(cm/s)\n",
    "0.000000e+00    1.052960e-03    8.316640e-04    -2.953140e-04\n",
    "1.000000e-02    2.177510e-03    1.675810e-03    -6.509430e-04\n",
    "2.000000e-02    3.364250e-03    2.507810e-03    -1.057580e-03\n",
    "3.000000e-02    4.604310e-03    3.303450e-03    -1.504520e-03\n",
    "4.000000e-02    5.887160e-03    4.041600e-03    -1.981320e-03\n",
    "5.000000e-02    7.200460e-03    4.706550e-03    -2.478260e-03\n",
    "6.000000e-02    8.533400e-03    5.287240e-03    -2.986860e-03"
   ]
  },
  {
   "cell_type": "markdown",
   "id": "12a1a625",
   "metadata": {},
   "source": [
    "Please note that these are broadband seismograms, which combine both low- and high-frequency seismogram generation techniques from different Broadband Platform components. If the site response module was selected, these output timeseries have already been corrected to the Vs30 of each station in the station list."
   ]
  },
  {
   "cell_type": "markdown",
   "id": "4d30c2e8",
   "metadata": {},
   "source": [
    "#### C. Plotting map with stations and rupture"
   ]
  },
  {
   "cell_type": "markdown",
   "id": "8c096bca",
   "metadata": {},
   "source": [
    "The data package provided with this notebook contains a full set of Broadband Platform seismograms for the 1994 Northridge earthquake. The set includes the Northridge source description file, a station list with 39 stations, and a set of observation files. We can set up paths for these files using the commands below:"
   ]
  },
  {
   "cell_type": "code",
   "execution_count": null,
   "id": "fd1a897f",
   "metadata": {},
   "outputs": [],
   "source": [
    "# First we configure the location of BBP input files\n",
    "base_dir = \"/home/scecuser/gmsvtoolkit_tutorials\"\n",
    "gmsv_data_package_dir = os.path.join(base_dir, \"tutorial_data\")\n",
    "bbp_inputs = os.path.join(gmsv_data_package_dir, \"bbp_inputs\")\n",
    "\n",
    "# Set up station list and source description files\n",
    "station_file_3_stations = os.path.join(bbp_inputs, \"nr_v19_06_2_3_stations.stl\")\n",
    "station_file_all_stations = os.path.join(bbp_inputs, \"nr_v19_06_2.stl\")\n",
    "src_file = os.path.join(bbp_inputs, \"nr_v20_07_1.src\")"
   ]
  },
  {
   "cell_type": "code",
   "execution_count": null,
   "id": "958f74b4",
   "metadata": {},
   "outputs": [],
   "source": [
    "# Set input folders for simulation and observation inputs\n",
    "\n",
    "# These two folders also contain some preprocessed data to speed up\n",
    "# some of the computations below, users can regenerate them using\n",
    "# the tools available in this notebook\n",
    "input_dir_sims = os.path.join(gmsv_data_package_dir, \"bbp_results\")\n",
    "input_dir_obs = os.path.join(gmsv_data_package_dir, \"obs_data\")\n",
    "\n",
    "# Set output folders where we want to store our results\n",
    "output_dir_sims = os.path.join(gmsv_data_package_dir, \"sims_processed\")\n",
    "output_dir_obs = os.path.join(gmsv_data_package_dir, \"obs_processed\")\n",
    "output_dir = os.path.join(gmsv_data_package_dir, \"gmsv_toolkit_fas_workflow\")"
   ]
  },
  {
   "cell_type": "markdown",
   "id": "75d0ddb8",
   "metadata": {},
   "source": [
    "In order to check the source description file and the station list, we will use the plot_map module in the plots package to create a map with the Northridge rupture and the list of stations used by the Broadband Platform. We will first import the plot_map module from the plots package:"
   ]
  },
  {
   "cell_type": "code",
   "execution_count": null,
   "id": "95b0a7f9",
   "metadata": {},
   "outputs": [],
   "source": [
    "from plots.plot_map import plot_map"
   ]
  },
  {
   "cell_type": "markdown",
   "id": "c7ec7198",
   "metadata": {},
   "source": [
    "Next, we set a plot title, an output file, and invoke the plot_map method with the station list and source description file:"
   ]
  },
  {
   "cell_type": "code",
   "execution_count": null,
   "id": "26511879",
   "metadata": {},
   "outputs": [],
   "source": [
    "plot_title = \"Northridge Fault Trace with all Stations\"\n",
    "all_stations_map = \"all_stations_map.png\"\n",
    "plot_map(station_file_all_stations, src_file, plot_title, output_dir, output_file=all_stations_map)"
   ]
  },
  {
   "cell_type": "markdown",
   "id": "6502ed55",
   "metadata": {},
   "source": [
    "We can also generate a second map with a smaller set of stations that we will use for some of the examples below. We just substitute the station file and provide a different output file:"
   ]
  },
  {
   "cell_type": "code",
   "execution_count": null,
   "id": "17121f05",
   "metadata": {},
   "outputs": [],
   "source": [
    "plot_title = \"Northridge Fault Trace with 3 Stations\"\n",
    "three_stations_map = \"three_stations_map.png\"\n",
    "plot_map(station_file_3_stations, src_file, plot_title, output_dir, output_file=three_stations_map)"
   ]
  },
  {
   "cell_type": "markdown",
   "id": "4ca00aac",
   "metadata": {},
   "source": [
    "To visualize the two station maps we just generated, we can use the display function from Jupyter."
   ]
  },
  {
   "cell_type": "code",
   "execution_count": null,
   "id": "f68d6bd5",
   "metadata": {},
   "outputs": [],
   "source": [
    "for filename in [os.path.join(output_dir, all_stations_map), os.path.join(output_dir, three_stations_map)]:\n",
    "    display(Image(filename))"
   ]
  },
  {
   "cell_type": "markdown",
   "id": "20a52401",
   "metadata": {},
   "source": [
    "### 3. Calculating FAS"
   ]
  },
  {
   "cell_type": "markdown",
   "id": "fd4d9654",
   "metadata": {},
   "source": [
    "For this step, we will compute FAS values for both simulated and observed data. We will be using GMSV Toolkit's FAS module, which can be used to read an acceleration timeseries and calculate FAS for a set of frequencies ranging from 0.01Hz to 100Hz.\n",
    "\n",
    "We will import the FAS module from the metrics package and initialize the module:"
   ]
  },
  {
   "cell_type": "code",
   "execution_count": null,
   "id": "53f2acd4",
   "metadata": {},
   "outputs": [],
   "source": [
    "from metrics import fas\n",
    "fas_obj = fas.FAS()"
   ]
  },
  {
   "cell_type": "markdown",
   "id": "7cd1b7e5",
   "metadata": {},
   "source": [
    "#### A. Computing FAS for simulated and recorded data"
   ]
  },
  {
   "cell_type": "markdown",
   "id": "5f01240f",
   "metadata": {},
   "source": [
    "In this example we will compare FAS results from two sets of data: simulated seismograms produced by the Broadband Platform, and observed data recorded at each site. The required inputs for the FAS module include a list of stations and input acceleration timeseries for each set of stations. For this example, we will use a station list with only three stations. The FAS module expects timeseries for each set of stations to be in a single folder, and that all input files include the station name and by default feature a \".acc.bbp\" extension. Additionally, we will provide an output folder where we would like to store the computed FAS for each station."
   ]
  },
  {
   "cell_type": "markdown",
   "id": "7907fe41",
   "metadata": {},
   "source": [
    "With all input files in place, the next step is to run the FAS code, which will compute fourier amplitude spectra for each of the stations included in the station list. Differently from most modules in the GMSV Toolkit software, the FAS module requires all stations and data sets that will be compared to be specified at once. This allows the code to resample all timeseries to a common DT and to prepare them for comparison."
   ]
  },
  {
   "cell_type": "code",
   "execution_count": null,
   "id": "8e774098",
   "metadata": {},
   "outputs": [],
   "source": [
    "# Generate a list of folders where the data will be coming from, also specify labels for each data set\n",
    "input_fas_dirs = [input_dir_sims, input_dir_obs]\n",
    "labels_fas = [\"2354660\", \"obs\"]\n",
    "\n",
    "# Now we can run the FAS module\n",
    "fas_obj.run_validation(station_file_3_stations, input_fas_dirs, labels_fas, output_dir)"
   ]
  },
  {
   "cell_type": "markdown",
   "id": "aa8b6a88",
   "metadata": {},
   "source": [
    "### 4. Comparing FAS: simulations against observations"
   ]
  },
  {
   "cell_type": "markdown",
   "id": "6bfb0b9a",
   "metadata": {},
   "source": [
    "Now that we have FAS files for both simulated and observed data, we can create a plot comparing them using the plot_fas_comparison module. We import the plot_fas_comparison module from the plots package and initialize it:"
   ]
  },
  {
   "cell_type": "code",
   "execution_count": null,
   "id": "eb13fdc5",
   "metadata": {},
   "outputs": [],
   "source": [
    "from plots import plot_fas_comparison"
   ]
  },
  {
   "cell_type": "markdown",
   "id": "8de79c0d",
   "metadata": {},
   "source": [
    "We are going to use the same station list and we just create an \"input_dirs\" array containing a list of folders where our data sets can be found. Additionally, we create a \"labels\" array containing labels for each of the data sets we specified in the \"input_dirs\" array. For our example, we will have two labels, \"obs\" refers to the observed data from the Northridge event, and we will use the Broadband Platform simulation id (2354660) for the simulated data. Setting up comp_label is optional, and allows us to specify a prefix to the output png file. "
   ]
  },
  {
   "cell_type": "code",
   "execution_count": null,
   "id": "aab68b2a",
   "metadata": {},
   "outputs": [],
   "source": [
    "input_dirs = [output_dir, output_dir]\n",
    "labels = [\"obs\", \"2354660\"]\n",
    "comp_label = \"NR_2354660\""
   ]
  },
  {
   "cell_type": "markdown",
   "id": "eddf8b09",
   "metadata": {},
   "source": [
    "Once we have everything set up, we can just call the run_station_mode method and we should get a comparison plot for each station in our station list."
   ]
  },
  {
   "cell_type": "code",
   "execution_count": null,
   "id": "ace1be36",
   "metadata": {},
   "outputs": [],
   "source": [
    "plot_fas_comparison.run_station_mode(station_file_3_stations, input_dirs, labels, output_dir, comp_label)"
   ]
  },
  {
   "cell_type": "markdown",
   "id": "cfd352c1",
   "metadata": {},
   "source": [
    "Finally, we can see the plot comparison for station 2001-SCE using the following command:"
   ]
  },
  {
   "cell_type": "code",
   "execution_count": null,
   "id": "a8dd2b3e",
   "metadata": {},
   "outputs": [],
   "source": [
    "display(Image(os.path.join(output_dir, \"NR_2354660.2001-SCE.fas.comparison.png\")))"
   ]
  },
  {
   "cell_type": "markdown",
   "id": "991f52c3",
   "metadata": {},
   "source": [
    "In the plots above we can see FAS values for the two horizontal components and Smoothed EAS (right). The black line shows calculated data and the red line shows FAS values for the recorded seismogram. The two vertical lines (purple and red) come from the station list and indicate limits for which the recorded data is valid for this particular station."
   ]
  },
  {
   "cell_type": "markdown",
   "id": "18b0553c",
   "metadata": {},
   "source": [
    "### 5. Generating FAS GoF plot"
   ]
  },
  {
   "cell_type": "markdown",
   "id": "4f5dafd3",
   "metadata": {},
   "source": [
    "Now that we have computed FAS for both simulations and observed data, we can generate a Goodness-of-Fit (GoF) plot using the two datasets. Although we can generate a GoF plot with the 3 stations that we have processed above, it will look better with more stations so that's what we will use. The training data package includes pre-computed FAS files for all stations (both simulated and observed data), but users are welcome to replace the short station list with the full station list in the examples above and regenerate the files themselves, it will just take a little longer."
   ]
  },
  {
   "cell_type": "markdown",
   "id": "1a859cb9",
   "metadata": {},
   "source": [
    "#### A. Calculating residuals"
   ]
  },
  {
   "cell_type": "markdown",
   "id": "3016a95b",
   "metadata": {},
   "source": [
    "First we import the fas_gof module from the stats package. We set the comp_label parameter to \"NR_2354660\", signaling we are comparing recorded data from the Northridge earthquake against the Broadband simulation 2354660. This will be used to generate a file prefix for the various residual files that will be produced by the fas_gof module. We can also use the max_cutoff parameter to exclude stations that are too far away from the rupture. In our example, we set it to 120km to include all stations in our list:"
   ]
  },
  {
   "cell_type": "code",
   "execution_count": null,
   "id": "3d0a9836",
   "metadata": {},
   "outputs": [],
   "source": [
    "from stats import fas_gof\n",
    "max_cutoff = 120\n",
    "comp_label = \"NR_2354660\"\n",
    "method = \"gp\""
   ]
  },
  {
   "cell_type": "markdown",
   "id": "592816b8",
   "metadata": {},
   "source": [
    "Next, we instantiate our FASGoF module and run it to generate the residual files for all stations:"
   ]
  },
  {
   "cell_type": "code",
   "execution_count": null,
   "id": "54f70c94",
   "metadata": {},
   "outputs": [],
   "source": [
    "fas_gof_obj = fas_gof.FASGoF(max_cutoff=max_cutoff, comp_label=comp_label)\n",
    "fas_gof_obj.run_fas_gof(station_file_all_stations, src_file, input_dir_obs, input_dir_sims, output_dir)"
   ]
  },
  {
   "cell_type": "markdown",
   "id": "7cae3eef",
   "metadata": {},
   "source": [
    "#### B.  Plotting GoF"
   ]
  },
  {
   "cell_type": "markdown",
   "id": "e06fd3d3",
   "metadata": {},
   "source": [
    "Now that we have calculated the residuals using the fas_gof module, we can generate a GoF plot using the plot_fas_gof method available in the plots package. We import plot_fas_gof, set up a plot_title for our plot, and generate the FAS GoF using the following code:"
   ]
  },
  {
   "cell_type": "code",
   "execution_count": null,
   "id": "f6ec0be6",
   "metadata": {},
   "outputs": [],
   "source": [
    "from plots.plot_fas_gof import plot_fas_gof\n",
    "plot_title = \"GoF Comparison between NR and simulation 2354660\"\n",
    "plot_fas_gof(plot_title, comp_label, output_dir, output_dir, max_cutoff=max_cutoff, method=method)"
   ]
  },
  {
   "cell_type": "markdown",
   "id": "37000c25",
   "metadata": {},
   "source": [
    "Please note that the optional method parameter above is used to add vertical lines to the plot that indicate the frequency range where simulated data for this method is valid. Users also have the option to specify the frequency range themselves by using the optional lfreq and hfreq parameters.\n",
    "\n",
    "Finally, we can visualize the generated GoF plot using the command below:"
   ]
  },
  {
   "cell_type": "code",
   "execution_count": null,
   "id": "c82673ae",
   "metadata": {},
   "outputs": [],
   "source": [
    "display(Image(os.path.join(output_dir, \"gof-NR_2354660_r0-120-fas.png\")))"
   ]
  },
  {
   "cell_type": "markdown",
   "id": "6cb4adcf",
   "metadata": {},
   "source": [
    "For the plot above we will focus on the first subplot, which features Smoothed EAS values. This plot includes data from all stations and shows how simulated data compares against recorded data at different frequencies. The solid red line shows the mean, the narrow band is the 90% confidence interval of the mean, and the wide band shows the standard deviation centered around the mean. Note that for frequencies between 0.15Hz and 1Hz the red line is closer to zero, indicating the two sets are close. For frequencies > 1.0Hz the red line dips below zero, signaling the simulated data is overpredicting the recorded data."
   ]
  },
  {
   "cell_type": "markdown",
   "id": "992171bd",
   "metadata": {},
   "source": [
    "### 6. Further reading"
   ]
  },
  {
   "cell_type": "markdown",
   "id": "88f2d9a9",
   "metadata": {},
   "source": [
    "#### Software reference\n",
    "\n",
    "The primary reference for the Broadband Platform software system (v15.3.0 and later) is:\n",
    "\n",
    "* Maechling, P. J., F. Silva, S. Callaghan, and T. H. Jordan (2015). SCEC Broadband Platform: System Architecture and Software Implementation, Seismol. Res. Lett., 86, no. 1, doi: 10.1785/0220140125\n",
    "\n",
    "#### Ground Motion Simulation Validation Method Reference\n",
    "The primary reference that describes the validation process developed by the Broadband Platform group to establish that the BBP platform software produces results are suitable for use in engineering applications is:\n",
    "\n",
    "* Goulet, C.A., Abrahamson, N.A., Somerville, P.G. and K, E. Wooddell (2015) The SCEC Broadband Platform Validation Exercise: Methodology for Code Validation in the Context of Seismic-Hazard Analyses, Seismol. Res. Lett., 86, no. 1, doi: 10.1785/0220140104\n",
    "\n",
    "#### GitHub repo\n",
    "\n",
    "Software related to this notebook can be found on GitHub:\n",
    "\n",
    "* GMSV Toolkit: https://github.com/SCECcode/gmsvtoolkit\n",
    "\n",
    "* GMSV Toolkit Tutorial: https://github.com/SCECcode/gmsvtoolkit_tutorials\n",
    "\n",
    "* SCEC Broadband Platform: https://github.com/SCECcode/bbp"
   ]
  },
  {
   "cell_type": "markdown",
   "id": "97cf2ec8",
   "metadata": {},
   "source": [
    "### 7. Acknowledgements"
   ]
  },
  {
   "cell_type": "markdown",
   "id": "ad196089",
   "metadata": {},
   "source": [
    "The following developers have contributed to the development of the GMSV Toolkit software package.\n",
    "\n",
    "* Norm Abrahamson, Pacific Gas & Electric (PG&E)\n",
    "* John Anderson, University of Nevada, Reno (UNR)\n",
    "* Ralph Archuleta, University of California Santa Barbara (UCSB)\n",
    "* Domniki Asimaki, California Institute of Technology (Caltech)\n",
    "* Karen Assatourians, Western University, Canada\n",
    "* Gail Atkinson, Western University, Canada\n",
    "* Shima Azizzadeh-Roodpish, University of Memphis\n",
    "* Jeff Bayless, AECOM\n",
    "* Alexander Nikolas Breuer, Friedrich Schiller University Jena\n",
    "* Scott Callaghan, Southern California Earthquake Center (SCEC)\n",
    "* Jorge Crempien, Pontificia Universidad Católica de Chile\n",
    "* Christine Goulet, Southern California Earthquake Center (SCEC)\n",
    "* Robert Graves, United States Geological Survey (USGS)\n",
    "* Behzad Hassani, British Columbia Hydro and Power Authority (BC Hydro)\n",
    "* Asako Iwaki, National Research Institute for Earth Science and Disaster Resilience (NIED)\n",
    "* Chen Ji, University of California Santa Barbara (UCSB)\n",
    "* Thomas H. Jordan, Southern California Earthquake Center (SCEC)\n",
    "* Naeem Khoshnevis, University of Memphis\n",
    "* Philip Maechling, Southern California Earthquake Center (SCEC)\n",
    "* Hiroe Miyake, Earthquake Research Institute, University of Tokyo\n",
    "* Kim Olsen, San Diego State University (SDSU)\n",
    "* Arben Pitarka, Lawrence Livermore National Laboratory (LLNL)\n",
    "* Sanaz Rezaeian, United States Geological Survey (USGS)\n",
    "* William Savran, San Diego State University (SDSU)\n",
    "* Jian Shi, California Institute of Technology (Caltech)\n",
    "* Fabio Silva, Southern California Earthquake Center (SCEC)\n",
    "* Andreas Skarlatoudis, AECOM\n",
    "* Patrick Small, Southern California Earthquake Center (SCEC)\n",
    "* Paul Somerville, AECOM\n",
    "* Seok-Goo Song, Korea Institute of Geoscience and Mineral Resources (KIGAM)\n",
    "* Ricardo Taborda, Universidad EAFIT\n",
    "* Rumi Takedatsu, San Diego State University (SDSU)\n",
    "* Nan Wang, San Diego State University (SDSU)\n",
    "* Ke Xu, San Diego State University (SDSU)"
   ]
  }
 ],
 "metadata": {
  "kernelspec": {
   "display_name": "Python 3 (ipykernel)",
   "language": "python",
   "name": "python3"
  },
  "language_info": {
   "codemirror_mode": {
    "name": "ipython",
    "version": 3
   },
   "file_extension": ".py",
   "mimetype": "text/x-python",
   "name": "python",
   "nbconvert_exporter": "python",
   "pygments_lexer": "ipython3",
   "version": "3.10.12"
  }
 },
 "nbformat": 4,
 "nbformat_minor": 5
}
