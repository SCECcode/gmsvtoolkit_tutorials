{
 "cells": [
  {
   "cell_type": "markdown",
   "id": "f6af56ff",
   "metadata": {},
   "source": [
    "## Introduction to SCEC Ground Motion Simulation Validation (GMSV) Toolkit"
   ]
  },
  {
   "cell_type": "markdown",
   "id": "8050b251",
   "metadata": {},
   "source": [
    "In this notebook we present a brief introduction to SCEC GMSV Toolkit and use it to compare the pseudospectral accelerations (PSAs) of ground motion generated in the Broadband Platform (BBP) against recorded ground motions for the 1994 Northridge earthquake. We also include a hands-on exercise where users can use the GMSV Toolkit seismogram comparison plotting tools to visualize the effects of Broadband Platform's site response module.\n",
    "\n",
    "SCEC's goal with GMSV Toolkit is to make existing, well verified, and useful software available to a broad seismological and engineering community of researchers interested in ground motion simulations validation. SCEC's GMSV Toolkit leverages over a decade of scientific, engineering, and software development work completed by dozens of SCEC contributors, including the groups working with the Broadband Platform, the GMSV TAG, the High-F group, among others.\n",
    "\n",
    "The GMSV codes compute various ground motion metrics, compare them with empirical data and models, and deliver suites of statistical products, including plots, to facilitate the evaluation. It aggregates methods into a standalone package so that their full capabilities are accessible for the validation of any simulation set."
   ]
  },
  {
   "cell_type": "markdown",
   "id": "7d26d295",
   "metadata": {},
   "source": [
    "### Overview"
   ]
  },
  {
   "cell_type": "markdown",
   "id": "0c154e61",
   "metadata": {},
   "source": [
    "1. Getting started\n",
    "2. Broadband Platform background\n",
    "    1. Validation simulation inputs\n",
    "    2. Validation simulation outputs\n",
    "    3. Plotting map with stations and rupture\n",
    "3. Looking at simulated timeseries\n",
    "4. Calculating PSA\n",
    "    1. Computing PSA for simulated data\n",
    "    2. Computing PSA for observed data\n",
    "5. Comparing PSA: simulations against observations\n",
    "6. Generating PSA GoF Plot\n",
    "    1. Calculating residuals\n",
    "    2. PSA GoF\n",
    "    3. Other GoFs\n",
    "7. Class exercise\n",
    "    1. Selecting sites for comparison\n",
    "    2. Getting started\n",
    "    3. Selecting input and output files\n",
    "    4. Comparing stations with lower Vs30 value\n",
    "    5. Comparing stations with higher Vs30 value\n",
    "8. Further reading\n",
    "9. Acknowledgements"
   ]
  },
  {
   "cell_type": "markdown",
   "id": "f571adbc",
   "metadata": {},
   "source": [
    "### 1. Getting started"
   ]
  },
  {
   "cell_type": "markdown",
   "id": "3394e57d",
   "metadata": {},
   "source": [
    "In this notebook we walk users through the steps involved in the GMSV Toolkit's PSA processing pipeline. Several of the codes used in this notebook have been used in the post-processing stages of the Broadband Platform for more than ten years, and have been migrated to the GMSV Toolkit repository as a standalone package. This enables users to take advantage of these codes outside of the Broadband Platform."
   ]
  },
  {
   "cell_type": "markdown",
   "id": "9aa260d0",
   "metadata": {},
   "source": [
    "The codes included in the GMSV Toolkit package are designed to work independently and can be used separately. Each module includes a command-line interface that allows it to be used from the command-line or automated with a script. Additionally, users can import each module into their Python programs and use the tools directly by calling the function they need. In this notebook we will focus on the using the codes via the Python interface."
   ]
  },
  {
   "cell_type": "markdown",
   "id": "7798bdb3",
   "metadata": {},
   "source": [
    "Briefly, in the PSA GoF pipeline, acceleration timeseries go through the RotDXX module where RotD50 is computed at 63 periods ranging from 0.01s to 10s. The output can be compared station by station with the plot_rotdxx module. These RotD50 files can also be aggregated across all stations and compared against each other with the PSA GoF tool. Finally, the PSA GoF Plot module can be used to generate different PSA GoF plots so users can see how the two datasets match. Please note that the pipeline above can work with simulations versus observed data, or with two sets of simulated data.\n",
    "\n",
    "The diagram below illustrates the processing steps involved in the PSA processing pipeline:"
   ]
  },
  {
   "cell_type": "markdown",
   "id": "bb20e53e",
   "metadata": {},
   "source": [
    "<img align=\"center\" width=\"800\" src=\"images/gmsvtoolkit_psa_pipeline.png\">"
   ]
  },
  {
   "cell_type": "markdown",
   "id": "d6282ea6",
   "metadata": {},
   "source": [
    "We will start our processing with the outputs provided by the Platform, and use different tools from the GMSV Toolkit to obtain a PSA Goodness-of-Fit (GoF) plot that can be used to visualize how the simulation results from the Platform compare against recorded timeseries from the 1994 Northridge earthquake."
   ]
  },
  {
   "cell_type": "markdown",
   "id": "69269f03",
   "metadata": {},
   "source": [
    "For this exercise, we will follow the PSA pipeline described above. We will use the RotDXX module to compute PSA for both calculated and observed timeseries. We will generate comparison plots of observed versus calculated timeseries for a station to check how they compare at different periods. Next, we will combine the PSA data from all stations and generate residuals that will be used in the last step to generate Goodness-of-Fit (GoF) plots.\n",
    "\n",
    "Now, before we get started with this notebook, we will import a couple of basic modules that will provide useful functions for using paths and showing results later on."
   ]
  },
  {
   "cell_type": "code",
   "execution_count": null,
   "id": "b2757d24",
   "metadata": {},
   "outputs": [],
   "source": [
    "from IPython.display import Image, display\n",
    "import os"
   ]
  },
  {
   "cell_type": "markdown",
   "id": "3ebbc986",
   "metadata": {},
   "source": [
    "### 2. Broadband Platform background"
   ]
  },
  {
   "cell_type": "markdown",
   "id": "abe0939a",
   "metadata": {},
   "source": [
    "The Broadband Platform (BBP) is a software system that can generate 0-20+ Hz seismograms for historical and scenario earthquakes in California, Eastern North America, and Japan using several alternative computational methods. In a validation simulation, we use a historical event and select station locations for which we have recorded data available. We can then compare the synthetic seismograms produced by the Platform against the recorded data and see how simulation methods match historical events. The Broadband Platform can also run scenario simulations, where it can generate ground motions for an arbitrary event at user-selected locations."
   ]
  },
  {
   "cell_type": "markdown",
   "id": "8f46ec8f",
   "metadata": {},
   "source": [
    "In this notebook, we will be using data from a Broadband Platform validation simulation that compares how a simulation method matches data recorded from the 1994 Northridge earthquake in Southern California."
   ]
  },
  {
   "cell_type": "markdown",
   "id": "e5908483",
   "metadata": {},
   "source": [
    "#### A. Validation simulation inputs\n",
    "\n",
    "<img align=\"right\" width=\"350\" src=\"images/labasin500.png\">\n",
    "\n",
    "Running the Broadband Platform involves selecting a simulation method and a simulation region that provides a 1-D velocity model that will be used to compute the synthetic seismograms. Although these items are not used in this notebook, we wanted to mention them for completeness. On the right, we show the 1-D velocity profile used for the LA Basin region, with a Vs30 set to 500m/s. After seismogram synthesis is completed, the Broadband Platform will run a site amplification module that will correct the simulated data at each station to the Vs30s provided in the station list (see below).\n",
    "\n",
    "Also needed for a validation simulation is a description of the earthquake. The Broadband Platform uses a simple source description file (also called a SRC file with a \".src\" extension). This file includes the fault geometry, location, mechanism, and other basic parameters used in the simulation. Users will also need to specify a list of stations for which we would like to compute synthetic seismograms. The station list contains information for each station, including station name, coordinates (latitude and longitude), Vs30, and also a range of frequencies for which recorded data is available.\n",
    "\n",
    "Finally, for a validation simulation will need a set or recorded seismograms, one for each station, containing a three-component acceleration timeseries. These observations can then be compared against the simulated timeseries produced by the Platform using a variety of metrics.\n",
    "\n",
    "Below we show examples of both a source description file and a station list, which will be used later in this notebook. The Northridge source description file includes magnitude, fault geometry and location, and other simulation parameters needed by the various Broadband Platform simulation methods. The station file contains the station location (longitude and latitude), a station name or identifier, Vs30 for the site, and the range of frequencies for which recorded data is valid for this station."
   ]
  },
  {
   "cell_type": "raw",
   "id": "5d30802c",
   "metadata": {},
   "source": [
    " #\n",
    " # Northridge (1994) source description\n",
    " #\n",
    " MAGNITUDE = 6.73\n",
    " FAULT_LENGTH = 20.00\n",
    " FAULT_WIDTH = 25.00\n",
    " DEPTH_TO_TOP = 5.00\n",
    " STRIKE = 122\n",
    " RAKE = 105.00\n",
    " DIP = 40\n",
    " LAT_TOP_CENTER = 34.344\n",
    " LON_TOP_CENTER = -118.515\n",
    " HYPO_ALONG_STK = 6.00\n",
    " HYPO_DOWN_DIP =  19.40\n",
    " #\n",
    " # Model specific parameters\n",
    " #\n",
    " DWID = 0.1\n",
    " DLEN = 0.1\n",
    " #\n",
    " # Alternative SEEDS create alternative .srf\n",
    " #\n",
    " SEED = 2379646"
   ]
  },
  {
   "cell_type": "raw",
   "id": "00e40cf7",
   "metadata": {},
   "source": [
    " # Station file with three stations near Northridge rupture\n",
    " # Lon    Lat     StationId  Vs30(m/s) HP_Freq(Hz) LP_Freq(Hz)\n",
    " -118.481 34.312  2001-SCE   370       0.2875      17.6001\n",
    " -118.444 34.326  2002-SYL   440       0.1500      11.1111\n",
    " -118.496 34.312  2003-JEN   373       0.1250      16.0000"
   ]
  },
  {
   "cell_type": "markdown",
   "id": "b606accd",
   "metadata": {},
   "source": [
    "#### B. Validation simulation outputs\n",
    "\n",
    "After the seismogram synthesis part of the Broadband Platform completes, we will have one velocity and one acceleration timeseries file for each station in our station list. These files, in BBP format, contain four columns, with time (in seconds), and two horizontal and one vertical components (in cm/s or cm/s/s). An example is provided below:"
   ]
  },
  {
   "cell_type": "raw",
   "id": "70dc2b56",
   "metadata": {},
   "source": [
    "# Sim NGAH, stat=2001-SCE\n",
    "#    time(sec)      N-S(cm/s)      E-W(cm/s)      U-D(cm/s)\n",
    "0.000000e+00    1.052960e-03    8.316640e-04    -2.953140e-04\n",
    "1.000000e-02    2.177510e-03    1.675810e-03    -6.509430e-04\n",
    "2.000000e-02    3.364250e-03    2.507810e-03    -1.057580e-03\n",
    "3.000000e-02    4.604310e-03    3.303450e-03    -1.504520e-03\n",
    "4.000000e-02    5.887160e-03    4.041600e-03    -1.981320e-03\n",
    "5.000000e-02    7.200460e-03    4.706550e-03    -2.478260e-03\n",
    "6.000000e-02    8.533400e-03    5.287240e-03    -2.986860e-03"
   ]
  },
  {
   "cell_type": "markdown",
   "id": "12a1a625",
   "metadata": {},
   "source": [
    "Please note that these are broadband seismograms, which combine both low- and high-frequency seismogram generation techniques from different Broadband Platform components. If the site response module was selected, these output timeseries have already been corrected to the Vs30 of each station in the station list."
   ]
  },
  {
   "cell_type": "markdown",
   "id": "4d30c2e8",
   "metadata": {},
   "source": [
    "#### C. Plotting map with stations and rupture"
   ]
  },
  {
   "cell_type": "markdown",
   "id": "8c096bca",
   "metadata": {},
   "source": [
    "The data package provided with this notebook contains a full set of Broadband Platform seismograms for the 1994 Northridge earthquake. The set includes the Northridge source description file, a station list with 39 stations, and a set of observation files. We can set up paths for these files using the commands below:"
   ]
  },
  {
   "cell_type": "code",
   "execution_count": null,
   "id": "fd1a897f",
   "metadata": {},
   "outputs": [],
   "source": [
    "# First we configure the location of BBP input files\n",
    "base_dir = \"/home/scecuser/gmsvtoolkit_tutorials\"\n",
    "gmsv_data_package_dir = os.path.join(base_dir, \"tutorial_data\")\n",
    "bbp_inputs = os.path.join(gmsv_data_package_dir, \"bbp_inputs\")\n",
    "\n",
    "# Set up station list and source description files\n",
    "station_file_3_stations = os.path.join(bbp_inputs, \"nr_v19_06_2_3_stations.stl\")\n",
    "station_file_all_stations = os.path.join(bbp_inputs, \"nr_v19_06_2.stl\")\n",
    "src_file = os.path.join(bbp_inputs, \"nr_v20_07_1.src\")"
   ]
  },
  {
   "cell_type": "code",
   "execution_count": null,
   "id": "958f74b4",
   "metadata": {},
   "outputs": [],
   "source": [
    "# Set input folders for simulation and observation inputs\n",
    "\n",
    "# These two folders also contain some preprocessed data to speed up\n",
    "# some of the computations below, users can regenerate them using\n",
    "# the tools available in this notebook\n",
    "input_dir_sims = os.path.join(gmsv_data_package_dir, \"bbp_results\")\n",
    "input_dir_obs = os.path.join(gmsv_data_package_dir, \"obs_data\")\n",
    "\n",
    "# Set output folders where we want to store our results\n",
    "output_dir_sims = os.path.join(gmsv_data_package_dir, \"sims_processed\")\n",
    "output_dir_obs = os.path.join(gmsv_data_package_dir, \"obs_processed\")\n",
    "output_dir = os.path.join(gmsv_data_package_dir, \"gmsv_toolkit_psa_pipeline\")"
   ]
  },
  {
   "cell_type": "markdown",
   "id": "75d0ddb8",
   "metadata": {},
   "source": [
    "In order to check the source description file and the station list, we will use the plot_map module in the plots package to create a map with the Northridge rupture and the list of stations used by the Broadband Platform. We will first import the plot_map module from the plots package:"
   ]
  },
  {
   "cell_type": "code",
   "execution_count": null,
   "id": "95b0a7f9",
   "metadata": {},
   "outputs": [],
   "source": [
    "from plots.plot_map import plot_map"
   ]
  },
  {
   "cell_type": "markdown",
   "id": "c7ec7198",
   "metadata": {},
   "source": [
    "Next, we set a plot title, an output file, and invoke the plot_map method with the station list and source description file:"
   ]
  },
  {
   "cell_type": "code",
   "execution_count": null,
   "id": "26511879",
   "metadata": {},
   "outputs": [],
   "source": [
    "plot_title = \"Northridge Fault Trace with all Stations\"\n",
    "all_stations_map = \"all_stations_map.png\"\n",
    "plot_map(station_file_all_stations, src_file, plot_title, output_dir, output_file=all_stations_map)"
   ]
  },
  {
   "cell_type": "markdown",
   "id": "6502ed55",
   "metadata": {},
   "source": [
    "We can also generate a second map with a smaller set of stations that we will use for some of the examples below. We just substitute the station file and provide a different output file:"
   ]
  },
  {
   "cell_type": "code",
   "execution_count": null,
   "id": "17121f05",
   "metadata": {},
   "outputs": [],
   "source": [
    "plot_title = \"Northridge Fault Trace with 3 Stations\"\n",
    "three_stations_map = \"three_stations_map.png\"\n",
    "plot_map(station_file_3_stations, src_file, plot_title, output_dir, output_file=three_stations_map)"
   ]
  },
  {
   "cell_type": "markdown",
   "id": "4ca00aac",
   "metadata": {},
   "source": [
    "To visualize the two station maps we just generated, we can use the display function from Jupyter."
   ]
  },
  {
   "cell_type": "code",
   "execution_count": null,
   "id": "f68d6bd5",
   "metadata": {},
   "outputs": [],
   "source": [
    "for filename in [os.path.join(output_dir, all_stations_map), os.path.join(output_dir, three_stations_map)]:\n",
    "    display(Image(filename))"
   ]
  },
  {
   "cell_type": "markdown",
   "id": "70a82c0f",
   "metadata": {},
   "source": [
    "### 3. Looking at simulated timeseries"
   ]
  },
  {
   "cell_type": "markdown",
   "id": "f41f920e",
   "metadata": {},
   "source": [
    "Before we run the PSA pipeline, we will plot a set of seismograms for one of the stations used in this notebook. The plotting tool we will use can generate 3-component plots for acceleration, velocity, and displacement so the first step will be to use the gmsv_tools module from the utils package to convert BBP acceleration files into displacement and velocity. We can do this by importing the module and then calling the convert_station_file function:"
   ]
  },
  {
   "cell_type": "code",
   "execution_count": null,
   "id": "589e6ae7",
   "metadata": {},
   "outputs": [],
   "source": [
    "from utils import gmsv_tools"
   ]
  },
  {
   "cell_type": "code",
   "execution_count": null,
   "id": "3fce96a1",
   "metadata": {},
   "outputs": [],
   "source": [
    "# Create acceleration, velocity, and displacement timeseries for simulated data\n",
    "for output_format in ['acc', 'vel', 'dis']:\n",
    "    gmsv_tools.convert_station_file(station_file_3_stations, input_format=\"acc\", output_format=output_format,\n",
    "                                input_dir=input_dir_sims, output_dir=output_dir_sims)"
   ]
  },
  {
   "cell_type": "markdown",
   "id": "064c54cf",
   "metadata": {},
   "source": [
    "We repeat the step above for the observation files so that we can compare the two later:"
   ]
  },
  {
   "cell_type": "code",
   "execution_count": null,
   "id": "c7037981",
   "metadata": {},
   "outputs": [],
   "source": [
    "# Create acceleration, velocity, and displacement timeseries for observed data\n",
    "for output_format in ['acc', 'vel', 'dis']:\n",
    "    gmsv_tools.convert_station_file(station_file_3_stations, input_format=\"acc\", output_format=output_format,\n",
    "                                input_dir=input_dir_obs, output_dir=output_dir_obs, input_suffix=\".bbp\")"
   ]
  },
  {
   "cell_type": "markdown",
   "id": "22ddf271",
   "metadata": {},
   "source": [
    "Now that we have generated two sets of seismograms, we can use the PlotSeismograms module from the plots package to generate a comparison plot. We set basic parameters like plot title, xmin, xmax, and two arrays with the files to plot and labels we would like to use:"
   ]
  },
  {
   "cell_type": "code",
   "execution_count": null,
   "id": "cdf83e56",
   "metadata": {},
   "outputs": [],
   "source": [
    "from plots.plot_seismograms import PlotSeismograms\n",
    "\n",
    "# Create plotting object, we want to plot 3 components\n",
    "plot_seism_obj = PlotSeismograms(n_comp=3)\n",
    "\n",
    "# Pick station\n",
    "station_name = \"2001-SCE\"\n",
    "\n",
    "# Two input files, observed and calculated seismograms\n",
    "obs_file = os.path.join(output_dir_obs, \"%s.acc.bbp\" % (station_name))\n",
    "sim_file = os.path.join(output_dir_sims, \"2354660.%s.acc.bbp\" % (station_name))\n",
    "\n",
    "# Create array with input files, and another array with labels to use for the plot\n",
    "input_files = [sim_file, obs_file]\n",
    "labels = [\"Sim\", \"Obs\"]\n",
    "\n",
    "# Select plotting range 0-40 seconds\n",
    "xmin = 0.0\n",
    "xmax = 40.0\n",
    "\n",
    "# Pick a plot title and set the output file\n",
    "plot_title = \"Seismogram comparison for station %s\"  % (station_name)\n",
    "timeseries_plot = os.path.join(output_dir, \"2354660.%s_seis.png\" % (station_name))\n",
    "\n",
    "# Generate plot\n",
    "plot_seism_obj.run_single_station(input_files, labels,\n",
    "                                  timeseries_plot, station_name,\n",
    "                                  xmin, xmax, plot_title=plot_title)"
   ]
  },
  {
   "cell_type": "markdown",
   "id": "23736ebc",
   "metadata": {},
   "source": [
    "We can see the plot generated with the command below:"
   ]
  },
  {
   "cell_type": "code",
   "execution_count": null,
   "id": "3a75b5a9",
   "metadata": {},
   "outputs": [],
   "source": [
    "display(Image(timeseries_plot))"
   ]
  },
  {
   "cell_type": "markdown",
   "id": "f168e733",
   "metadata": {},
   "source": [
    "In the plots above we can see acceleration, velocity, and displacement plots for both simulated and observed timeseries. We can observe that simulated data begins at origin time and is therefore shown after the observed data."
   ]
  },
  {
   "cell_type": "markdown",
   "id": "20a52401",
   "metadata": {},
   "source": [
    "### 4. Calculating PSA"
   ]
  },
  {
   "cell_type": "markdown",
   "id": "fd4d9654",
   "metadata": {},
   "source": [
    "For this step, we will compute PSA values for both simulated and observed data. We will be using GMSV Toolkit's RotdXX module, which can be used to read an acceleration time series and compute RotD50 values for a set of 63 periods ranging from 0.01s to 10s.\n",
    "\n",
    "We will import the RotDxx module from the metrics package and initialize the module:"
   ]
  },
  {
   "cell_type": "code",
   "execution_count": null,
   "id": "53f2acd4",
   "metadata": {},
   "outputs": [],
   "source": [
    "from metrics import rotdxx\n",
    "rotdxx_obj = rotdxx.RotDXX(mode=\"rotd50\")"
   ]
  },
  {
   "cell_type": "markdown",
   "id": "7cd1b7e5",
   "metadata": {},
   "source": [
    "#### A. Computing PSA for simulated data"
   ]
  },
  {
   "cell_type": "markdown",
   "id": "5f01240f",
   "metadata": {},
   "source": [
    "The required inputs for this module include a list of stations and input acceleration timeseries for each station. For this example, we will use a station list with only three stations. The RotDXX module expects timeseries for all stations to be in a single folder, and that all input files include the station name and feature a \".acc.bbp\" extension. Additionally, we will also provide an output folder where we would like to store the computed PSA for each station."
   ]
  },
  {
   "cell_type": "markdown",
   "id": "7907fe41",
   "metadata": {},
   "source": [
    "With all input files in place, the next step is to run the RotDXX code, which will compute PSA for each of the stations included in the station list. As with most modules in the GMSV Toolkit software, the RotDXX module can also be used with a single station, where only an input and output files need to be specified."
   ]
  },
  {
   "cell_type": "code",
   "execution_count": null,
   "id": "8e774098",
   "metadata": {},
   "outputs": [],
   "source": [
    "rotdxx_obj.run_station_mode(station_file_3_stations, input_dir_sims, output_dir_sims)"
   ]
  },
  {
   "cell_type": "markdown",
   "id": "82f1a86a",
   "metadata": {},
   "source": [
    "#### B. Computing PSA for observed data"
   ]
  },
  {
   "cell_type": "markdown",
   "id": "cc6d78d2",
   "metadata": {},
   "source": [
    "In order to calculate PSA values for the observed data we will run the RotDXX code a second. Please note that we will are using the same station list we used in the previous step, and just changed the input and output folders so that we process the observed files:"
   ]
  },
  {
   "cell_type": "code",
   "execution_count": null,
   "id": "229d412e",
   "metadata": {},
   "outputs": [],
   "source": [
    "rotdxx_obj.run_station_mode(station_file_3_stations, input_dir_obs, output_dir_obs, input_suffix=\".bbp\")"
   ]
  },
  {
   "cell_type": "markdown",
   "id": "aa8b6a88",
   "metadata": {},
   "source": [
    "### 5. Comparing PSA: simulations against observations"
   ]
  },
  {
   "cell_type": "markdown",
   "id": "6bfb0b9a",
   "metadata": {},
   "source": [
    "Now that we have PSA files for both simulated and observed data, we can create a plot comparing them using the plot_rotdxx module. We import the plot_rotdxx module from the plots package and initialize it:"
   ]
  },
  {
   "cell_type": "code",
   "execution_count": null,
   "id": "eb13fdc5",
   "metadata": {},
   "outputs": [],
   "source": [
    "from plots import plot_rotdxx\n",
    "plot_rotdxx_obj = plot_rotdxx.PlotRotDXX(mode=\"rotd50\")"
   ]
  },
  {
   "cell_type": "markdown",
   "id": "8de79c0d",
   "metadata": {},
   "source": [
    "We are going to use the same station list and we just create an \"input_dirs\" array containing a list of folders where our data is. Additionally, we create a \"labels\" array containing labels for each of the data sets we specified in the \"input_dirs\" array. For our example, we will have two labels, \"NR\" refers to the observed data from the Northridge event, and we will use the Broadband Platform simulation id (2354660) for the simulated data. Setting up comp_label is optional, and allows us to specify a prefix to the output png file. "
   ]
  },
  {
   "cell_type": "code",
   "execution_count": null,
   "id": "aab68b2a",
   "metadata": {},
   "outputs": [],
   "source": [
    "input_dirs = [output_dir_obs, output_dir_sims]\n",
    "labels = [\"NR\", \"2354660\"]\n",
    "comp_label = \"NR_2354660\""
   ]
  },
  {
   "cell_type": "markdown",
   "id": "eddf8b09",
   "metadata": {},
   "source": [
    "Once we have everything set up, we can just call the run_station_mode method and we should get a comparison plot for each station in our station list."
   ]
  },
  {
   "cell_type": "code",
   "execution_count": null,
   "id": "ace1be36",
   "metadata": {},
   "outputs": [],
   "source": [
    "plot_rotdxx_obj.run_station_mode(station_file_3_stations, input_dirs, labels, output_dir, comp_label)"
   ]
  },
  {
   "cell_type": "markdown",
   "id": "cfd352c1",
   "metadata": {},
   "source": [
    "Finally, we can see the end comparison for station 2001-SCE using the following command:"
   ]
  },
  {
   "cell_type": "code",
   "execution_count": null,
   "id": "a8dd2b3e",
   "metadata": {},
   "outputs": [],
   "source": [
    "display(Image(os.path.join(output_dir, \"NR_2354660_2001-SCE_rotd50.png\")))"
   ]
  },
  {
   "cell_type": "markdown",
   "id": "991f52c3",
   "metadata": {},
   "source": [
    "In the plots above we can see PSA values for the two horizontal components and RotD50 (right). The green line shows calculated data and the blue line shows PSA values for the recorded seismogram. The two vertical lines (purple and red) come from the station list and indicates limits for which the recorded data is valid for this particular station."
   ]
  },
  {
   "cell_type": "markdown",
   "id": "18b0553c",
   "metadata": {},
   "source": [
    "### 6. Generating PSA GoF plot"
   ]
  },
  {
   "cell_type": "markdown",
   "id": "4f5dafd3",
   "metadata": {},
   "source": [
    "Now that we have computed PSA for both simulations and observed data, we can generate a Goodness-of-Fit (GoF) plot using the two datasets. Although we can generate a GoF plot with the 3 stations that we have, it will look better with more stations so that's what we will use. The training data package includes pre-computed PSA files for all stations (both simulated and observed data), but users are welcome to replace the short station list with the full station list in the examples above and regenerate the files themselves, it will just take a little longer."
   ]
  },
  {
   "cell_type": "markdown",
   "id": "1a859cb9",
   "metadata": {},
   "source": [
    "#### A. Calculating residuals"
   ]
  },
  {
   "cell_type": "markdown",
   "id": "3016a95b",
   "metadata": {},
   "source": [
    "First we import the psa_gof module from the stats package. Then we can use the max_cutoff parameter to exclude stations that are too far away from the rupture. In our example, we set it to 120km to include all stations in our list:"
   ]
  },
  {
   "cell_type": "code",
   "execution_count": null,
   "id": "3d0a9836",
   "metadata": {},
   "outputs": [],
   "source": [
    "from stats import psa_gof\n",
    "max_cutoff = 120"
   ]
  },
  {
   "cell_type": "markdown",
   "id": "592816b8",
   "metadata": {},
   "source": [
    "Next, we instantiate our PSAGoF module and run it to generate the residual files for all stations:"
   ]
  },
  {
   "cell_type": "code",
   "execution_count": null,
   "id": "54f70c94",
   "metadata": {},
   "outputs": [],
   "source": [
    "psa_gof_obj = psa_gof.PSAGoF(mode=\"rotd50\", max_cutoff=max_cutoff, comp_label=comp_label)\n",
    "psa_gof_obj.run_psa_gof(station_file_all_stations, src_file, input_dir_obs, input_dir_sims, output_dir)"
   ]
  },
  {
   "cell_type": "markdown",
   "id": "7cae3eef",
   "metadata": {},
   "source": [
    "#### B.  Plotting GoF"
   ]
  },
  {
   "cell_type": "markdown",
   "id": "e06fd3d3",
   "metadata": {},
   "source": [
    "Now that we have calculated the residuals using the psa_gof module, we can generate a GoF plot using the plot_psa_gof method available in the plots package. We import plot_psa_gof, set up a plot_title for our plot, and generate the PSA GoF using:"
   ]
  },
  {
   "cell_type": "code",
   "execution_count": null,
   "id": "f6ec0be6",
   "metadata": {},
   "outputs": [],
   "source": [
    "from plots.plot_psa_gof import plot_psa_gof\n",
    "plot_title = \"GoF Comparison between NR and simulation 2354660\"\n",
    "plot_psa_gof(output_dir, output_dir, plot_title, comp_label, max_cutoff=max_cutoff)"
   ]
  },
  {
   "cell_type": "markdown",
   "id": "37000c25",
   "metadata": {},
   "source": [
    "Finally, we can visualize the generated GoF plot using the command below:"
   ]
  },
  {
   "cell_type": "code",
   "execution_count": null,
   "id": "c82673ae",
   "metadata": {},
   "outputs": [],
   "source": [
    "display(Image(os.path.join(output_dir, \"gof-NR_2354660_r0-120-rd50.png\")))"
   ]
  },
  {
   "cell_type": "markdown",
   "id": "6cb4adcf",
   "metadata": {},
   "source": [
    "For the plot above we will focus on the first subplot, which shows the RotD50 values. This plot shows how simulated data compare the recorded data at different periods. The red line shows the mean and reflects how well the two sets match. Note that for periods between 1s and 5s the red line is close to zero, indicating the two sets are pretty close. For periods < 1.0s (higher frequencies) the red line dips below zero, signaling the simulated data is overpredicting the recorded data."
   ]
  },
  {
   "cell_type": "markdown",
   "id": "39abbc3e",
   "metadata": {},
   "source": [
    "#### C. Other GoFs"
   ]
  },
  {
   "cell_type": "markdown",
   "id": "d676fa89",
   "metadata": {},
   "source": [
    "In addition to the PSA GoF plot by periods, the GMSV Toolkit package is able to generate PSA GoFs by distance, Vs30, and on a map. These plots compare calculated data against recorded data and use the same data set as the PSA GoF above. We can import the needed modules from the plots package and generate the corresponding plots using the following commands:"
   ]
  },
  {
   "cell_type": "code",
   "execution_count": null,
   "id": "cb33792a",
   "metadata": {
    "scrolled": true
   },
   "outputs": [],
   "source": [
    "from plots.plot_vs30_gof import plot_vs30_gof\n",
    "from plots.plot_dist_gof import plot_dist_gof\n",
    "from plots.plot_map_gof import plot_map_gof\n",
    "plot_mode = \"rd50\"\n",
    "\n",
    "# Generate GoFs by Vs30, distance, and on a map\n",
    "plot_vs30_gof(output_dir, output_dir, comp_label, plot_mode, plot_title=plot_title)\n",
    "plot_dist_gof(output_dir, output_dir, comp_label, plot_mode, plot_title=plot_title)\n",
    "plot_map_gof(output_dir, output_dir, comp_label, plot_mode, src_file, station_file_all_stations, plot_title=plot_title)"
   ]
  },
  {
   "cell_type": "markdown",
   "id": "59828060",
   "metadata": {},
   "source": [
    "The first plot we generate is the Vs30 GoF plot, which can be used to check for any bias related to site conditions (in this case the Vs30 value for each station). We can see the plot using the following command:"
   ]
  },
  {
   "cell_type": "code",
   "execution_count": null,
   "id": "00ff9563",
   "metadata": {},
   "outputs": [],
   "source": [
    "display(Image(os.path.join(output_dir, \"gof-vs30-NR_2354660-rotd50.png\")))"
   ]
  },
  {
   "cell_type": "markdown",
   "id": "eb620c0f",
   "metadata": {},
   "source": [
    "It is also useful to visualize the data per station on a map. This allows us to check for bias related to station location/directivity effects. Just as with the main PSA GoF plot, positive values (blue) indicate simulations are underprediting the recorded data while negative values (red) show stations in which the synthetic seismograms are overpredicting the data:"
   ]
  },
  {
   "cell_type": "code",
   "execution_count": null,
   "id": "30671a6b",
   "metadata": {},
   "outputs": [],
   "source": [
    "display(Image(os.path.join(output_dir, \"gof-map-NR_2354660-rotd50.png\")))"
   ]
  },
  {
   "cell_type": "markdown",
   "id": "19a7feca",
   "metadata": {},
   "source": [
    "Finally, we can also plot the same data per distance and check for any biases/trends. Similar to the plots above, we show data for each station using 8 different periods:"
   ]
  },
  {
   "cell_type": "code",
   "execution_count": null,
   "id": "127cdb98",
   "metadata": {
    "scrolled": false
   },
   "outputs": [],
   "source": [
    "for filename in [os.path.join(output_dir, \"gof-dist-linear-NR_2354660-rotd50.png\"),\n",
    "                 os.path.join(output_dir, \"gof-dist-log-NR_2354660-rotd50.png\")]:\n",
    "    display(Image(filename))"
   ]
  },
  {
   "cell_type": "markdown",
   "id": "2d0257c5",
   "metadata": {},
   "source": [
    "### 7. Class exercise"
   ]
  },
  {
   "cell_type": "markdown",
   "id": "ef49f3c4",
   "metadata": {},
   "source": [
    "In this class exercise, we will use GMSV Toolkit's seismogram plotting tools to compare two datasets that come from the Broadband Platform. The first dataset is the Northridge simulation we have used in the first part of this notebook. The second dataset uses the same source description and station list but does not include the use of BBP's site response module. Therefore, all seismograms on the second dataset are calculated with the Vs30 value used when generating the 1-D greens functions, which was set to 500m/s."
   ]
  },
  {
   "cell_type": "markdown",
   "id": "7a3be045",
   "metadata": {},
   "source": [
    "#### A. Selecting sites for comparison"
   ]
  },
  {
   "cell_type": "markdown",
   "id": "940eed0c",
   "metadata": {},
   "source": [
    "When running the site response module, we expect to see an increase in ground motions for sites for which Vs30 is less than 500m/s, and a decrease in sites with a Vs30 greater than 500m/s. Looking at the complete Northridge station list below:"
   ]
  },
  {
   "cell_type": "raw",
   "id": "36a7ed81",
   "metadata": {},
   "source": [
    "# Lon    Lat     StationId  Vs30(m/s) HP_Freq(Hz)  LP_Freq(Hz)\n",
    "-118.481 34.312  2001-SCE   370       0.2875       17.6001\n",
    "-118.444 34.326  2002-SYL   440       0.1500       11.1111\n",
    "-118.496 34.312  2003-JEN   373       0.1250       16.0000\n",
    "-118.498 34.313  2004-JGB   525       0.1250       20.0000\n",
    "-118.483 34.294  2005-LDM   628       0.1500       18.3999\n",
    "-118.396 34.334  2006-PAC  2016       0.2000       11.1111\n",
    "-118.396 34.334  2007-PUL  2016       0.2000       9.0909\n",
    "-118.375 34.296  2008-PKC   508       0.1750       18.3999\n",
    "-118.479 34.249  2010-SPV   380       0.1625       23.9998\n",
    "-118.303 34.269  2011-GLE   402       0.1250       23.9998\n",
    "-118.380 34.114  2012-WON  1222       0.1750       23.9998\n",
    "-118.426 34.419  2013-LOS   325       0.1250       23.9998\n",
    "-118.405 34.127  2014-MU2   545       0.1875       23.9998\n",
    "-118.225 34.286  2015-TUJ   550       0.4125       23.9998\n",
    "-118.560 34.571  2016-H12   602       0.1500       36.7999\n",
    "-118.710 34.232  2017-SSU   715       0.1250       23.9998\n",
    "-118.666 34.264  2018-KAT   557       0.2625       23.9998\n",
    "-118.421 34.221  2019-RO3   320       0.1250       23.9998\n",
    "-118.254 34.238  2020-NYA   411       0.3750       23.9998\n",
    "-118.244 34.115  2021-FLE   329       0.1625       23.9998\n",
    "-118.271 34.043  2022-PIC   304       0.2500       36.7999\n",
    "-118.199 34.580  2023-ANA   349       0.2500       36.7999\n",
    "-118.600 34.084  2024-TPF   505       0.1500       23.9998\n",
    "-118.339 34.090  2025-PEL   316       0.2500       8.3333\n",
    "-118.243 34.596  2026-LV3   499       0.2500       7.6923\n",
    "-118.361 34.758  2027-ATB   572       0.1500       11.1111\n",
    "-118.189 34.111  2028-FIG   364       0.3750       23.9998\n",
    "-118.196 33.899  2029-CAS   266       0.1625       23.9998\n",
    "-118.230 34.004  2030-VER   283       0.2500       23.9998\n",
    "-117.883 34.137  2031-OAK   362       0.4125       23.9998\n",
    "-118.194 33.840  2032-LBR   302       0.2000       14.2857\n",
    "-119.362 34.016  2033-ACI   501       0.3750       8.3333\n",
    "-118.196 33.768  2034-LBC   322       0.3750       11.1111\n",
    "-118.175 35.070  2035-MJH   331       0.3750       18.3999\n",
    "-117.709 33.869  2036-FEA   367       0.3750       18.3999\n",
    "-118.084 33.757  2037-SEA   296       0.2000       36.7999\n",
    "-118.206 34.870  2038-RMA   320       0.3750       18.3999\n",
    "-118.214 34.739  2039-LAN   268       0.3750       18.3999\n",
    "-119.851 34.422  2040-SBG   312       0.2500       18.3999"
   ]
  },
  {
   "cell_type": "markdown",
   "id": "d95e6e37",
   "metadata": {},
   "source": [
    "For our comparison plots, we will try to pick two sites from the list above: one with a lower Vs30 and one with a higher Vs30 value. For a lower Vs30 site, we can pick a site like station 2029-CAS with a Vs30 value of 266m/s. For a higher Vs30 location, we can select station 2012-WON, with a Vs30 value of 1222m/s. These two sites should produce good comparison plots for comparing simulations with and without the Broadband Platform site response module."
   ]
  },
  {
   "cell_type": "markdown",
   "id": "6cd6da8d",
   "metadata": {},
   "source": [
    "#### B. Getting started"
   ]
  },
  {
   "cell_type": "markdown",
   "id": "2483a6a2",
   "metadata": {},
   "source": [
    "The first step for our comparison is to import needed Jupyter modules (if not done already), and import the PlotSeismograms module from GMSV Toolkit's plot package. Also, we can instantiate the plot seismograms class and set it to generate three-component velocity comparisons:"
   ]
  },
  {
   "cell_type": "code",
   "execution_count": null,
   "id": "80a2fa97",
   "metadata": {},
   "outputs": [],
   "source": [
    "# Import Jupyter modules so we can see the plots\n",
    "from IPython.display import Image, display\n",
    "import os\n",
    "\n",
    "# Import PlotSeismograms module from the plots package\n",
    "from plots.plot_seismograms import PlotSeismograms\n",
    "\n",
    "# We would like to see only velocity seismograms\n",
    "plot_seism_obj = PlotSeismograms(mode=[\"vel\"], n_comp=3)"
   ]
  },
  {
   "cell_type": "markdown",
   "id": "e6102d6e",
   "metadata": {},
   "source": [
    "#### C. Selecting input and output files"
   ]
  },
  {
   "cell_type": "markdown",
   "id": "b5f9fbe0",
   "metadata": {},
   "source": [
    "The two Broadband Platform datasets included in this tutorial exercise data package can be found in the \"bbp_results\", and \"bbp_results_no_site\" folders. We can set up all required input and output folder with the following commands:"
   ]
  },
  {
   "cell_type": "code",
   "execution_count": null,
   "id": "ab1f61d6",
   "metadata": {},
   "outputs": [],
   "source": [
    "base_dir = \"/home/scecuser/gmsvtoolkit_tutorials\"\n",
    "gmsv_data_package_dir = os.path.join(base_dir, \"tutorial_data\")\n",
    "input_dir_sims_site = os.path.join(gmsv_data_package_dir, \"bbp_results\")\n",
    "input_dir_sims_nosite = os.path.join(gmsv_data_package_dir, \"bbp_results_no_site\")\n",
    "output_dir = os.path.join(gmsv_data_package_dir, \"gmsv_toolkit_psa_pipeline\")"
   ]
  },
  {
   "cell_type": "markdown",
   "id": "ee7a4fdc",
   "metadata": {},
   "source": [
    "#### D. Comparing stations with lower Vs30 value"
   ]
  },
  {
   "cell_type": "markdown",
   "id": "2cfa07e3",
   "metadata": {},
   "source": [
    "We can start by configuring the station name we would like to use for our comparison. As suggested above, we can use station \"2029-CAS\", but other stations with a lower Vs30 should also work for this example. Following this, we can create two arrays containing the two input files, and a corresponding array with the labels we would like to use in our plots. We can try to run the comparison using the other default parameters as configured below, but we can always come back and adjust xmin, xmax, and set up a different plot title if we want to customize things a bit."
   ]
  },
  {
   "cell_type": "code",
   "execution_count": null,
   "id": "16025735",
   "metadata": {},
   "outputs": [],
   "source": [
    "# Set station name and input files\n",
    "station_name =\n",
    "\n",
    "sim_site_file = os.path.join(input_dir_sims_site, \"2354660.%s.vel.bbp\" % (station_name))\n",
    "sim_nosite_file = os.path.join(input_dir_sims_nosite, \"2359040.%s.vel.bbp\" % (station_name))\n",
    "\n",
    "# Set up arrays of input files and labels\n",
    "input_files =\n",
    "labels =\n",
    "\n",
    "# Limits for the plots\n",
    "xmin = 0.0\n",
    "xmax = 100.0\n",
    "\n",
    "# Plot title and output filename\n",
    "plot_title = \"Seismogram comparison\"\n",
    "comp_low_vs30_plot = os.path.join(output_dir, \"seismogram_comparison.%s_seis.png\" % (station_name))\n",
    "\n",
    "# Create plot\n",
    "plot_seism_obj.run_single_station(input_files, labels,\n",
    "                                  comp_low_vs30_plot, station_name,\n",
    "                                  xmin, xmax, plot_title=plot_title)"
   ]
  },
  {
   "cell_type": "markdown",
   "id": "c81aa75d",
   "metadata": {},
   "source": [
    "Finally, we can display our generated plot with the command below:"
   ]
  },
  {
   "cell_type": "code",
   "execution_count": null,
   "id": "d24838c8",
   "metadata": {},
   "outputs": [],
   "source": [
    "display(Image(comp_low_vs30_plot))"
   ]
  },
  {
   "cell_type": "markdown",
   "id": "ae33274a",
   "metadata": {},
   "source": [
    "#### E. Comparing stations with higher Vs30 value"
   ]
  },
  {
   "cell_type": "markdown",
   "id": "21b3c2c4",
   "metadata": {},
   "source": [
    "Next, we would like to follow the same procedure once again, but this time using a station with a higher Vs30 value. We can use station \"2012-WON\" as suggested above, or a different one that also features a higher Vs30."
   ]
  },
  {
   "cell_type": "code",
   "execution_count": null,
   "id": "d7c7357c",
   "metadata": {},
   "outputs": [],
   "source": [
    "# Set station name and input files\n",
    "station_name = \n",
    "sim_site_file = os.path.join(input_dir_sims_site, \"2354660.%s.vel.bbp\" % (station_name))\n",
    "sim_nosite_file = os.path.join(input_dir_sims_nosite, \"2359040.%s.vel.bbp\" % (station_name))\n",
    "\n",
    "# Set up arrays of input files and labels\n",
    "input_files = \n",
    "labels = \n",
    "\n",
    "# Limits for the plots\n",
    "xmin = 0.0\n",
    "xmax = 100.0\n",
    "\n",
    "# Plot title and output filename\n",
    "plot_title = \"Seismogram comparison\"\n",
    "comp_high_vs30_plot = os.path.join(output_dir, \"seismogram_comparison.%s_seis.png\" % (station_name))\n",
    "\n",
    "# Create plot\n",
    "plot_seism_obj.run_single_station(input_files, labels,\n",
    "                                  comp_high_vs30_plot, station_name,\n",
    "                                  xmin, xmax, plot_title=plot_title)"
   ]
  },
  {
   "cell_type": "markdown",
   "id": "93cbd47d",
   "metadata": {},
   "source": [
    "Finally, we can display our generated plot with the command below:"
   ]
  },
  {
   "cell_type": "code",
   "execution_count": null,
   "id": "26ec2369",
   "metadata": {},
   "outputs": [],
   "source": [
    "display(Image(comp_high_vs30_plot))"
   ]
  },
  {
   "cell_type": "markdown",
   "id": "992171bd",
   "metadata": {},
   "source": [
    "### 8. Further reading"
   ]
  },
  {
   "cell_type": "markdown",
   "id": "88f2d9a9",
   "metadata": {},
   "source": [
    "#### Software reference\n",
    "\n",
    "The primary reference for the Broadband Platform software system (v15.3.0 and later) is:\n",
    "\n",
    "* Maechling, P. J., F. Silva, S. Callaghan, and T. H. Jordan (2015). SCEC Broadband Platform: System Architecture and Software Implementation, Seismol. Res. Lett., 86, no. 1, doi: 10.1785/0220140125\n",
    "\n",
    "#### Ground Motion Simulation Validation Method Reference\n",
    "The primary reference that describes the validation process developed by the Broadband Platform group to establish that the BBP platform software produces results are suitable for use in engineering applications is:\n",
    "\n",
    "* Goulet, C.A., Abrahamson, N.A., Somerville, P.G. and K, E. Wooddell (2015) The SCEC Broadband Platform Validation Exercise: Methodology for Code Validation in the Context of Seismic-Hazard Analyses, Seismol. Res. Lett., 86, no. 1, doi: 10.1785/0220140104\n",
    "\n",
    "#### GitHub repo\n",
    "\n",
    "Software related to this notebook can be found on GitHub:\n",
    "\n",
    "* GMSV Toolkit: https://github.com/SCECcode/gmsvtoolkit\n",
    "\n",
    "* GMSV Toolkit Tutorial: https://github.com/SCECcode/gmsvtoolkit_tutorials\n",
    "\n",
    "* SCEC Broadband Platform: https://github.com/SCECcode/bbp"
   ]
  },
  {
   "cell_type": "markdown",
   "id": "97cf2ec8",
   "metadata": {},
   "source": [
    "### 9. Acknowledgements"
   ]
  },
  {
   "cell_type": "markdown",
   "id": "ad196089",
   "metadata": {},
   "source": [
    "The following developers have contributed to the development of the GMSV Toolkit software package.\n",
    "\n",
    "* Norm Abrahamson, Pacific Gas & Electric (PG&E)\n",
    "* John Anderson, University of Nevada, Reno (UNR)\n",
    "* Ralph Archuleta, University of California Santa Barbara (UCSB)\n",
    "* Domniki Asimaki, California Institute of Technology (Caltech)\n",
    "* Karen Assatourians, Western University, Canada\n",
    "* Gail Atkinson, Western University, Canada\n",
    "* Shima Azizzadeh-Roodpish, University of Memphis\n",
    "* Jeff Bayless, AECOM\n",
    "* Alexander Nikolas Breuer, Friedrich Schiller University Jena\n",
    "* Scott Callaghan, Southern California Earthquake Center (SCEC)\n",
    "* Jorge Crempien, Pontificia Universidad Católica de Chile\n",
    "* Christine Goulet, Southern California Earthquake Center (SCEC)\n",
    "* Robert Graves, United States Geological Survey (USGS)\n",
    "* Behzad Hassani, British Columbia Hydro and Power Authority (BC Hydro)\n",
    "* Asako Iwaki, National Research Institute for Earth Science and Disaster Resilience (NIED)\n",
    "* Chen Ji, University of California Santa Barbara (UCSB)\n",
    "* Thomas H. Jordan, Southern California Earthquake Center (SCEC)\n",
    "* Naeem Khoshnevis, University of Memphis\n",
    "* Philip Maechling, Southern California Earthquake Center (SCEC)\n",
    "* Hiroe Miyake, Earthquake Research Institute, University of Tokyo\n",
    "* Kim Olsen, San Diego State University (SDSU)\n",
    "* Arben Pitarka, Lawrence Livermore National Laboratory (LLNL)\n",
    "* Sanaz Rezaeian, United States Geological Survey (USGS)\n",
    "* William Savran, San Diego State University (SDSU)\n",
    "* Jian Shi, California Institute of Technology (Caltech)\n",
    "* Fabio Silva, Southern California Earthquake Center (SCEC)\n",
    "* Andreas Skarlatoudis, AECOM\n",
    "* Patrick Small, Southern California Earthquake Center (SCEC)\n",
    "* Paul Somerville, AECOM\n",
    "* Seok-Goo Song, Korea Institute of Geoscience and Mineral Resources (KIGAM)\n",
    "* Ricardo Taborda, Universidad EAFIT\n",
    "* Rumi Takedatsu, San Diego State University (SDSU)\n",
    "* Nan Wang, San Diego State University (SDSU)\n",
    "* Ke Xu, San Diego State University (SDSU)"
   ]
  }
 ],
 "metadata": {
  "kernelspec": {
   "display_name": "Python 3 (ipykernel)",
   "language": "python",
   "name": "python3"
  },
  "language_info": {
   "codemirror_mode": {
    "name": "ipython",
    "version": 3
   },
   "file_extension": ".py",
   "mimetype": "text/x-python",
   "name": "python",
   "nbconvert_exporter": "python",
   "pygments_lexer": "ipython3",
   "version": "3.10.6"
  }
 },
 "nbformat": 4,
 "nbformat_minor": 5
}
